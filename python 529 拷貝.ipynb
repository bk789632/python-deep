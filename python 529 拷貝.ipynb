{
 "cells": [
  {
   "cell_type": "markdown",
   "metadata": {},
   "source": [
    "# Python的類別(Class)\n",
    "\n",
    "* class類別，就是像一個模組，可以產出具有相似特性的實體(物件)也有人會說他像是一個蛋糕模子，可以一直套用 生產蛋糕\n",
    "* 如果我們設定狗，它代表一隻狗 - 特別是一隻狗。我們對大多數寵物狗了解多少？ 他們都有名字和年齡。我們也知道大多數狗坐著翻身。他們都會有相同的\"屬性\"、不同的\"參數\""
   ]
  },
  {
   "cell_type": "markdown",
   "metadata": {},
   "source": [
    "##  Creating the Dog Class\n",
    "\n",
    "1. 從Dog類創建的每個實例都將存儲名稱和年齡，我們將為每隻狗提供sit（）和roll_over（）的能力\n",
    "2. __init__這個特定的名稱，用來定義類別的實例建立之後，要進行的初始化動作。\n",
    "3. 在 python 物件方法中，如果存取一個 class 中的變數，那麼在物件方法宣告參數時，就必須要有一個 self 當作第一個參數。 self，意思就是自己本身。\n",
    "## 基本語法\n",
    "* class類別名稱 ： \n",
    "       定義初始化函式\n",
    "       def_int_(self):\n",
    "       obj=類別名稱()\n",
    "       "
   ]
  },
  {
   "cell_type": "code",
   "execution_count": 24,
   "metadata": {},
   "outputs": [],
   "source": [
    "class Dog:\n",
    "    def __init__(self, name, age):  #最初年齡和名稱\n",
    "             self.name = name\n",
    "             self.age = age\n",
    "    def sit(self):\n",
    "             print(f\"{self.name} is now sitting.\")\n",
    "    def roll_over(self):\n",
    "             print(f\"{self.name} rolled over!\")"
   ]
  },
  {
   "cell_type": "code",
   "execution_count": 27,
   "metadata": {},
   "outputs": [],
   "source": [
    " my_dog = Dog('Willie', 6)"
   ]
  },
  {
   "cell_type": "code",
   "execution_count": 29,
   "metadata": {},
   "outputs": [
    {
     "name": "stdout",
     "output_type": "stream",
     "text": [
      "My dog's name is Willie.\n"
     ]
    }
   ],
   "source": [
    " print(f\"My dog's name is {my_dog.name}.\")"
   ]
  },
  {
   "cell_type": "code",
   "execution_count": 30,
   "metadata": {},
   "outputs": [
    {
     "name": "stdout",
     "output_type": "stream",
     "text": [
      "My dog is 6 years old.\n"
     ]
    }
   ],
   "source": [
    " print(f\"My dog is {my_dog.age} years old.\")"
   ]
  },
  {
   "cell_type": "code",
   "execution_count": 32,
   "metadata": {},
   "outputs": [
    {
     "name": "stdout",
     "output_type": "stream",
     "text": [
      "Willie is now sitting.\n",
      "Willie rolled over!\n"
     ]
    }
   ],
   "source": [
    "my_dog.sit()\n",
    "my_dog.roll_over()\n",
    "#當Python讀取my_dog.sit（），它在類Dog中查找方法sit（）並運行它碼。 Python以相同的方式解釋行my_dog.roll_over（）"
   ]
  },
  {
   "cell_type": "markdown",
   "metadata": {},
   "source": [
    "## 建立第二隻狗"
   ]
  },
  {
   "cell_type": "code",
   "execution_count": 33,
   "metadata": {},
   "outputs": [
    {
     "name": "stdout",
     "output_type": "stream",
     "text": [
      "My dog's name is Willie.\n",
      "My dog is 6 years old.\n",
      "Willie is now sitting.\n",
      "\n",
      "Your dog's name is Lucy.\n",
      "Your dog is 3 years old.\n",
      "Lucy is now sitting.\n"
     ]
    }
   ],
   "source": [
    "my_dog = Dog('Willie', 6)\n",
    "your_dog = Dog('Lucy', 3)\n",
    "print(f\"My dog's name is {my_dog.name}.\")\n",
    "print(f\"My dog is {my_dog.age} years old.\")\n",
    "my_dog.sit()\n",
    "print(f\"\\nYour dog's name is {your_dog.name}.\")\n",
    "print(f\"Your dog is {your_dog.age} years old.\")\n",
    "your_dog.sit()"
   ]
  },
  {
   "cell_type": "markdown",
   "metadata": {},
   "source": [
    "## 定義自己"
   ]
  },
  {
   "cell_type": "code",
   "execution_count": 82,
   "metadata": {},
   "outputs": [
    {
     "name": "stdout",
     "output_type": "stream",
     "text": [
      "B.K Hou\n",
      "V.C Chen\n"
     ]
    }
   ],
   "source": [
    "class FullName:\n",
    "    def __init__(self, first, last):\n",
    "        self.first=first\n",
    "        self.last=last\n",
    "name=FullName(\"B.K\",\"Hou\")\n",
    "print(name.first,name.last)\n",
    "name2=FullName(\"V.C\",\"Chen\")\n",
    "print(name2.first,name2.last)"
   ]
  },
  {
   "cell_type": "markdown",
   "metadata": {},
   "source": [
    "## 新增參數的覆寫函式"
   ]
  },
  {
   "cell_type": "code",
   "execution_count": 74,
   "metadata": {},
   "outputs": [
    {
     "name": "stdout",
     "output_type": "stream",
     "text": [
      "小狗小白 有 4 條腿\n",
      "小狗小白 汪汪叫\n"
     ]
    }
   ],
   "source": [
    "class Animal():\n",
    "    def __init__(self, name):\n",
    "        self.name = name\n",
    "    def sound(self):\n",
    "        pass\n",
    "class Dog(Animal):\n",
    "    def __init__(self, name, leg):\n",
    "        super().__init__('小狗'+name)\n",
    "        self.leg = leg\n",
    "    def sound(self):\n",
    "        return '汪汪叫'\n",
    "d = Dog('小白', 4)\n",
    "print(d.name, '有', d.leg, '條腿')\n",
    "print(d.name, d.sound())"
   ]
  },
  {
   "cell_type": "markdown",
   "metadata": {},
   "source": [
    "1. 第1到5行：定義類別Animal，定義函式「__init__」，函式「__init__」輸入參數為self與name，將name儲存到物件變數self.name（第2到3行）。定義函式sound，使用pass表示沒有執行任何程式（第4到5行）。\n",
    "\n",
    "2. 第6到11行：定義類別Dog繼承自類別Animal，定義函式「__init__」，函式「__init__」輸入參數為self、name與leg，使用「super()」呼叫基礎類別Animal的函式「__init__」，傳入「小狗」串接name的字串，設定self.leg為leg（第7到9行）。定義函式sound，回傳「汪汪叫」（第10到11行）。\n",
    "\n",
    "3. 第12行：宣告一個類別Dog的物件，輸入「小黑」與「4」到類別Dog的初始化函式「__init__」，將此物件貼上物件d的標籤。\n",
    "\n",
    "4. 第13行：使用函式print顯示物件d的變數name，串接「有」，串接物件d的變數leg，串接「條腿」到螢幕上。\n",
    "\n",
    "5. 第14 行：使用函式print顯示物件d的變數name，串接物件d的函式sound的執行結果到螢幕上。"
   ]
  },
  {
   "cell_type": "code",
   "execution_count": null,
   "metadata": {},
   "outputs": [],
   "source": []
  }
 ],
 "metadata": {
  "kernelspec": {
   "display_name": "Python 3",
   "language": "python",
   "name": "python3"
  },
  "language_info": {
   "codemirror_mode": {
    "name": "ipython",
    "version": 3
   },
   "file_extension": ".py",
   "mimetype": "text/x-python",
   "name": "python",
   "nbconvert_exporter": "python",
   "pygments_lexer": "ipython3",
   "version": "3.6.8"
  }
 },
 "nbformat": 4,
 "nbformat_minor": 2
}
